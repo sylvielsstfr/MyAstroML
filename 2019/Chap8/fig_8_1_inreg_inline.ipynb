{
 "cells": [
  {
   "cell_type": "markdown",
   "metadata": {},
   "source": [
    "# Inline Bayesian Linear Regression"
   ]
  },
  {
   "cell_type": "code",
   "execution_count": 29,
   "metadata": {},
   "outputs": [
    {
     "data": {
      "text/plain": [
       "'\\nInline Bayesian Linear Regression\\n---------------------------------\\nFigure 8.1\\n\\nAn example showing the online nature of Bayesian regression. The upper panel\\nshows the four points used in regression, drawn from the line\\ny = theta_1 x + theta_0 with theta_1 = 1 and theta_0 = 0. The lower panel shows\\nthe posterior pdf in the (theta_1, theta_0) plane as each point is added in\\nsequence. For clarity, the implied dark regions for sigma > 3 have been\\nremoved. The fourth point is an upper-limit measurement of y, and the resulting\\nposterior cuts off half the parameter space.\\n'"
      ]
     },
     "execution_count": 29,
     "metadata": {},
     "output_type": "execute_result"
    }
   ],
   "source": [
    "\"\"\"\n",
    "Inline Bayesian Linear Regression\n",
    "---------------------------------\n",
    "Figure 8.1\n",
    "\n",
    "An example showing the online nature of Bayesian regression. The upper panel\n",
    "shows the four points used in regression, drawn from the line\n",
    "y = theta_1 x + theta_0 with theta_1 = 1 and theta_0 = 0. The lower panel shows\n",
    "the posterior pdf in the (theta_1, theta_0) plane as each point is added in\n",
    "sequence. For clarity, the implied dark regions for sigma > 3 have been\n",
    "removed. The fourth point is an upper-limit measurement of y, and the resulting\n",
    "posterior cuts off half the parameter space.\n",
    "\"\"\""
   ]
  },
  {
   "cell_type": "code",
   "execution_count": 30,
   "metadata": {},
   "outputs": [],
   "source": [
    "import numpy as np\n",
    "from matplotlib import pyplot as plt\n",
    "from astroML.plotting.mcmc import convert_to_stdev\n",
    "%matplotlib inline"
   ]
  },
  {
   "cell_type": "code",
   "execution_count": 31,
   "metadata": {},
   "outputs": [],
   "source": [
    "import matplotlib.colors as colors\n",
    "import matplotlib.cm as cmx\n",
    "import matplotlib.dates as mdates\n",
    "from matplotlib import gridspec"
   ]
  },
  {
   "cell_type": "code",
   "execution_count": 32,
   "metadata": {},
   "outputs": [],
   "source": [
    "N=10\n",
    "jet = plt.get_cmap('jet')\n",
    "cNorm = colors.Normalize(vmin=0, vmax=N)\n",
    "scalarMap = cmx.ScalarMappable(norm=cNorm, cmap=jet)\n",
    "all_colors = scalarMap.to_rgba(np.arange(N), alpha=1)"
   ]
  },
  {
   "cell_type": "code",
   "execution_count": 33,
   "metadata": {},
   "outputs": [],
   "source": [
    "# to enlarge the sizes\n",
    "params = {'legend.fontsize': 'x-large',\n",
    "          'figure.figsize': (10, 10),\n",
    "         'axes.labelsize': 'x-large',\n",
    "         'axes.titlesize':'x-large',\n",
    "         'xtick.labelsize':'x-large',\n",
    "         'ytick.labelsize':'x-large'}\n",
    "plt.rcParams.update(params)\n"
   ]
  },
  {
   "cell_type": "code",
   "execution_count": 34,
   "metadata": {},
   "outputs": [],
   "source": [
    "#----------------------------------------------------------------------\n",
    "# This function adjusts matplotlib settings for a uniform feel in the textbook.\n",
    "# Note that with usetex=True, fonts are rendered with LaTeX.  This may\n",
    "# result in an error if LaTeX is not installed on your system.  In that case,\n",
    "# you can set usetex to False.\n",
    "if \"setup_text_plots\" not in globals():\n",
    "    from astroML.plotting import setup_text_plots\n",
    "setup_text_plots(fontsize=16, usetex=True)"
   ]
  },
  {
   "cell_type": "markdown",
   "metadata": {},
   "source": [
    "# Set up the data and errors"
   ]
  },
  {
   "cell_type": "code",
   "execution_count": 35,
   "metadata": {},
   "outputs": [],
   "source": [
    "# Set up the data and errors\n",
    "np.random.seed(13)\n",
    "a = 1\n",
    "b = 0\n",
    "\n",
    "x = np.array([-1, 0.44, -0.16])\n",
    "y = a * x + b\n",
    "dy = np.array([0.25, 0.22, 0.2])\n",
    "\n",
    "y = np.random.normal(y, dy)\n",
    "\n",
    "# add a fourth point which is a lower bound\n",
    "x4 = 1.0\n",
    "y4 = a * x4 + b + 0.2"
   ]
  },
  {
   "cell_type": "code",
   "execution_count": 48,
   "metadata": {},
   "outputs": [
    {
     "data": {
      "text/plain": [
       "array([-1.  ,  0.44, -0.16])"
      ]
     },
     "execution_count": 48,
     "metadata": {},
     "output_type": "execute_result"
    }
   ],
   "source": [
    "x"
   ]
  },
  {
   "cell_type": "code",
   "execution_count": 49,
   "metadata": {},
   "outputs": [
    {
     "data": {
      "text/plain": [
       "array([-1.17809767,  0.6058286 , -0.16890062])"
      ]
     },
     "execution_count": 49,
     "metadata": {},
     "output_type": "execute_result"
    }
   ],
   "source": [
    "y"
   ]
  },
  {
   "cell_type": "markdown",
   "metadata": {},
   "source": [
    "# Compute the likelihoods for each point"
   ]
  },
  {
   "cell_type": "code",
   "execution_count": 40,
   "metadata": {},
   "outputs": [],
   "source": [
    "#------------------------------------------------------------\n",
    "# Compute the likelihoods for each point\n",
    "a_range = np.linspace(0, 2, 80)\n",
    "b_range = np.linspace(-1, 1, 80)\n",
    "logL = -((a_range[:, None, None] * x + b_range[None, :, None] - y) / dy) ** 2\n",
    "sigma = [convert_to_stdev(logL[:, :, i]) for i in range(3)]\n"
   ]
  },
  {
   "cell_type": "code",
   "execution_count": 51,
   "metadata": {},
   "outputs": [
    {
     "data": {
      "text/plain": [
       "(3,)"
      ]
     },
     "execution_count": 51,
     "metadata": {},
     "output_type": "execute_result"
    }
   ],
   "source": [
    "x.shape"
   ]
  },
  {
   "cell_type": "code",
   "execution_count": 52,
   "metadata": {},
   "outputs": [
    {
     "data": {
      "text/plain": [
       "(3,)"
      ]
     },
     "execution_count": 52,
     "metadata": {},
     "output_type": "execute_result"
    }
   ],
   "source": [
    "y.shape"
   ]
  },
  {
   "cell_type": "code",
   "execution_count": 55,
   "metadata": {},
   "outputs": [
    {
     "data": {
      "text/plain": [
       "(3,)"
      ]
     },
     "execution_count": 55,
     "metadata": {},
     "output_type": "execute_result"
    }
   ],
   "source": [
    "dy.shape"
   ]
  },
  {
   "cell_type": "code",
   "execution_count": 50,
   "metadata": {},
   "outputs": [
    {
     "data": {
      "text/plain": [
       "(80, 80, 3)"
      ]
     },
     "execution_count": 50,
     "metadata": {},
     "output_type": "execute_result"
    }
   ],
   "source": [
    "# grid of (80 x 80) bins of a,b values, for each x point \n",
    "logL.shape"
   ]
  },
  {
   "cell_type": "code",
   "execution_count": 45,
   "metadata": {},
   "outputs": [
    {
     "data": {
      "text/plain": [
       "(80, 1, 1)"
      ]
     },
     "execution_count": 45,
     "metadata": {},
     "output_type": "execute_result"
    }
   ],
   "source": [
    "a_range[:,None,None].shape"
   ]
  },
  {
   "cell_type": "code",
   "execution_count": 54,
   "metadata": {},
   "outputs": [
    {
     "data": {
      "text/plain": [
       "(80, 1, 3)"
      ]
     },
     "execution_count": 54,
     "metadata": {},
     "output_type": "execute_result"
    }
   ],
   "source": [
    "(a_range[:,None,None]*x).shape"
   ]
  },
  {
   "cell_type": "code",
   "execution_count": 47,
   "metadata": {},
   "outputs": [
    {
     "data": {
      "text/plain": [
       "(1, 80, 1)"
      ]
     },
     "execution_count": 47,
     "metadata": {},
     "output_type": "execute_result"
    }
   ],
   "source": [
    "b_range[None, :, None].shape"
   ]
  },
  {
   "cell_type": "code",
   "execution_count": 42,
   "metadata": {},
   "outputs": [
    {
     "data": {
      "text/plain": [
       "(80, 80, 3)"
      ]
     },
     "execution_count": 42,
     "metadata": {},
     "output_type": "execute_result"
    }
   ],
   "source": [
    "logL.shape"
   ]
  },
  {
   "cell_type": "code",
   "execution_count": 60,
   "metadata": {},
   "outputs": [
    {
     "data": {
      "text/plain": [
       "3"
      ]
     },
     "execution_count": 60,
     "metadata": {},
     "output_type": "execute_result"
    }
   ],
   "source": [
    "# one sigma array per point\n",
    "len(sigma)"
   ]
  },
  {
   "cell_type": "code",
   "execution_count": 58,
   "metadata": {},
   "outputs": [
    {
     "data": {
      "text/plain": [
       "(80, 80)"
      ]
     },
     "execution_count": 58,
     "metadata": {},
     "output_type": "execute_result"
    }
   ],
   "source": [
    "sigma[0].shape"
   ]
  },
  {
   "cell_type": "code",
   "execution_count": 61,
   "metadata": {},
   "outputs": [
    {
     "data": {
      "text/plain": [
       "array(1.)"
      ]
     },
     "execution_count": 61,
     "metadata": {},
     "output_type": "execute_result"
    }
   ],
   "source": [
    "convert_to_stdev(0.5)"
   ]
  },
  {
   "cell_type": "markdown",
   "metadata": {},
   "source": [
    "# compute best-fit from first three points"
   ]
  },
  {
   "cell_type": "code",
   "execution_count": 37,
   "metadata": {},
   "outputs": [],
   "source": [
    "# compute best-fit from first three points\n",
    "logL_together = logL.sum(-1)\n",
    "i, j = np.where(logL_together == np.max(logL_together))\n",
    "amax = a_range[i[0]]\n",
    "bmax = b_range[j[0]]"
   ]
  },
  {
   "cell_type": "code",
   "execution_count": 62,
   "metadata": {},
   "outputs": [
    {
     "data": {
      "text/plain": [
       "-186917.68494768292"
      ]
     },
     "execution_count": 62,
     "metadata": {},
     "output_type": "execute_result"
    }
   ],
   "source": [
    "logL.sum()"
   ]
  },
  {
   "cell_type": "code",
   "execution_count": 64,
   "metadata": {},
   "outputs": [
    {
     "data": {
      "text/plain": [
       "(80, 80)"
      ]
     },
     "execution_count": 64,
     "metadata": {},
     "output_type": "execute_result"
    }
   ],
   "source": [
    "# sum of the 3 points in each bin\n",
    "logL.sum(-1).shape"
   ]
  },
  {
   "cell_type": "code",
   "execution_count": 71,
   "metadata": {},
   "outputs": [
    {
     "data": {
      "text/plain": [
       "(80,)"
      ]
     },
     "execution_count": 71,
     "metadata": {},
     "output_type": "execute_result"
    }
   ],
   "source": [
    "a_range.shape"
   ]
  },
  {
   "cell_type": "code",
   "execution_count": 68,
   "metadata": {},
   "outputs": [
    {
     "data": {
      "text/plain": [
       "1.240506329113924"
      ]
     },
     "execution_count": 68,
     "metadata": {},
     "output_type": "execute_result"
    }
   ],
   "source": [
    "amax"
   ]
  },
  {
   "cell_type": "code",
   "execution_count": 69,
   "metadata": {},
   "outputs": [
    {
     "data": {
      "text/plain": [
       "0.03797468354430378"
      ]
     },
     "execution_count": 69,
     "metadata": {},
     "output_type": "execute_result"
    }
   ],
   "source": [
    "bmax"
   ]
  },
  {
   "cell_type": "markdown",
   "metadata": {},
   "source": [
    "# Plot the first figure: the points and errorbars"
   ]
  },
  {
   "cell_type": "code",
   "execution_count": 38,
   "metadata": {},
   "outputs": [
    {
     "data": {
      "text/plain": [
       "(-2.0, 2.0)"
      ]
     },
     "execution_count": 38,
     "metadata": {},
     "output_type": "execute_result"
    },
    {
     "data": {
      "image/png": "[encoded data removed]",
      "text/plain": [
       "<Figure size 720x540 with 1 Axes>"
      ]
     },
     "metadata": {
      "needs_background": "light"
     },
     "output_type": "display_data"
    }
   ],
   "source": [
    "#------------------------------------------------------------\n",
    "# Plot the first figure: the points and errorbars\n",
    "fig1 = plt.figure(figsize=(10, 7.5))\n",
    "ax1 = fig1.add_subplot(111)\n",
    "\n",
    "# Draw the true and best-fit lines\n",
    "xfit = np.array([-1.5, 1.5])\n",
    "ax1.plot(xfit, a * xfit + b, ':k', label='True fit')\n",
    "ax1.plot(xfit, amax * xfit + bmax, '--k', label='fit to $\\{x_1, x_2, x_3\\}$')\n",
    "\n",
    "ax1.legend(loc=2)\n",
    "\n",
    "ax1.errorbar(x, y, dy, fmt='ok')\n",
    "ax1.errorbar([x4], [y4], [[0.5], [0]], fmt='_k', lolims=True)\n",
    "\n",
    "for i in range(3):\n",
    "    ax1.text(x[i] + 0.05, y[i] - 0.3, \"$x_{%i}$\" % (i + 1))\n",
    "ax1.text(x4 + 0.05, y4 - 0.5, \"$x_4$\")\n",
    "\n",
    "ax1.set_xlabel('$x$')\n",
    "ax1.set_ylabel('$y$')\n",
    "\n",
    "ax1.set_xlim(-1.5, 1.5)\n",
    "ax1.set_ylim(-2, 2)"
   ]
  },
  {
   "cell_type": "markdown",
   "metadata": {},
   "source": [
    "# Plot the second figure: likelihoods for each point"
   ]
  },
  {
   "cell_type": "code",
   "execution_count": 39,
   "metadata": {},
   "outputs": [
    {
     "data": {
      "image/png": "[encoded data removed]",
      "text/plain": [
       "<Figure size 720x720 with 4 Axes>"
      ]
     },
     "metadata": {
      "needs_background": "light"
     },
     "output_type": "display_data"
    }
   ],
   "source": [
    "#------------------------------------------------------------\n",
    "# Plot the second figure: likelihoods for each point\n",
    "fig2 = plt.figure()\n",
    "fig2.subplots_adjust(hspace=0.05, wspace=0.05)\n",
    "\n",
    "# plot likelihood contours\n",
    "for i in range(4):\n",
    "    ax = fig2.add_subplot(221 + i)\n",
    "    for j in range(min(i + 1, 3)):\n",
    "        ax.contourf(a_range, b_range, sigma[j].T,\n",
    "                    levels=(0, 0.683, 0.955, 0.997),\n",
    "                    cmap=plt.cm.binary, alpha=0.5)\n",
    "\n",
    "# plot the excluded area from the fourth point\n",
    "axpb = a_range[:, None] * x4 + b_range[None, :]\n",
    "mask = y4 < axpb\n",
    "fig2.axes[3].fill_between(a_range, y4 - x4 * a_range, 2, color='k', alpha=0.5)\n",
    "\n",
    "# plot ellipses\n",
    "for i in range(1, 4):\n",
    "    ax = fig2.axes[i]\n",
    "    logL_together = logL[:, :, :i + 1].sum(-1)\n",
    "    if i == 3:\n",
    "        logL_together[mask] = -np.inf\n",
    "\n",
    "    sigma_together = convert_to_stdev(logL_together)\n",
    "\n",
    "    ax.contour(a_range, b_range, sigma_together.T,\n",
    "               levels=(0.683, 0.955, 0.997),\n",
    "               colors='k')\n",
    "\n",
    "# Label and adjust axes\n",
    "for i in range(4):\n",
    "    ax = fig2.axes[i]\n",
    "\n",
    "    ax.text(1.98, -0.98, \"$x_{%i}$\" % (i + 1), ha='right', va='bottom')\n",
    "\n",
    "    ax.plot([0, 2], [0, 0], ':k', lw=1)\n",
    "    ax.plot([1, 1], [-1, 1], ':k', lw=1)\n",
    "\n",
    "    ax.set_xlim(0.001, 2)\n",
    "    ax.set_ylim(-0.999, 1)\n",
    "\n",
    "    if i in (1, 3):\n",
    "        ax.yaxis.set_major_formatter(plt.NullFormatter())\n",
    "    if i in (0, 1):\n",
    "        ax.xaxis.set_major_formatter(plt.NullFormatter())\n",
    "    if i in (0, 2):\n",
    "        ax.set_ylabel(r'$\\theta_0$')\n",
    "    if i in (2, 3):\n",
    "        ax.set_xlabel(r'$\\theta_1$')\n",
    "\n",
    "\n",
    "plt.show()\n"
   ]
  },
  {
   "cell_type": "code",
   "execution_count": null,
   "metadata": {},
   "outputs": [],
   "source": []
  }
 ],
 "metadata": {
  "kernelspec": {
   "display_name": "Python 3",
   "language": "python",
   "name": "python3"
  },
  "language_info": {
   "codemirror_mode": {
    "name": "ipython",
    "version": 3
   },
   "file_extension": ".py",
   "mimetype": "text/x-python",
   "name": "python",
   "nbconvert_exporter": "python",
   "pygments_lexer": "ipython3",
   "version": "3.7.7"
  }
 },
 "nbformat": 4,
 "nbformat_minor": 4
}
