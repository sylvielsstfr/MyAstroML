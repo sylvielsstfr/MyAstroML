{
 "cells": [
  {
   "cell_type": "markdown",
   "metadata": {},
   "source": [
    "# Photo Z with Neural Network\n",
    "\n",
    "## Fig 9.X"
   ]
  },
  {
   "cell_type": "code",
   "execution_count": null,
   "metadata": {},
   "outputs": [],
   "source": []
  },
  {
   "cell_type": "code",
   "execution_count": 1,
   "metadata": {},
   "outputs": [],
   "source": [
    "import torch\n",
    "import torch.nn as nn\n",
    "import torch.nn.functional as F\n",
    "import torch.utils.data as torchdata\n",
    "\n",
    "from astroML.datasets import fetch_sdss_specgals\n",
    "from astroML.utils.decorators import pickle_results"
   ]
  },
  {
   "cell_type": "code",
   "execution_count": 2,
   "metadata": {},
   "outputs": [],
   "source": [
    "import numpy as np\n",
    "from matplotlib import pyplot as plt\n"
   ]
  },
  {
   "cell_type": "code",
   "execution_count": 3,
   "metadata": {},
   "outputs": [],
   "source": [
    "import matplotlib.colors as colors\n",
    "import matplotlib.cm as cmx\n",
    "import matplotlib.dates as mdates\n",
    "from matplotlib import gridspec"
   ]
  },
  {
   "cell_type": "code",
   "execution_count": 4,
   "metadata": {},
   "outputs": [],
   "source": [
    "N=10\n",
    "jet = plt.get_cmap('jet')\n",
    "cNorm = colors.Normalize(vmin=0, vmax=N)\n",
    "scalarMap = cmx.ScalarMappable(norm=cNorm, cmap=jet)\n",
    "all_colors = scalarMap.to_rgba(np.arange(N), alpha=1)"
   ]
  },
  {
   "cell_type": "code",
   "execution_count": 5,
   "metadata": {},
   "outputs": [],
   "source": [
    "# to enlarge the sizes\n",
    "params = {'legend.fontsize': 'x-large',\n",
    "          'figure.figsize': (10, 10),\n",
    "         'axes.labelsize': 'x-large',\n",
    "         'axes.titlesize':'x-large',\n",
    "         'xtick.labelsize':'x-large',\n",
    "         'ytick.labelsize':'x-large'}\n",
    "plt.rcParams.update(params)\n"
   ]
  },
  {
   "cell_type": "code",
   "execution_count": 6,
   "metadata": {},
   "outputs": [],
   "source": [
    "#----------------------------------------------------------------------\n",
    "# This function adjusts matplotlib settings for a uniform feel in the textbook.\n",
    "# Note that with usetex=True, fonts are rendered with LaTeX.  This may\n",
    "# result in an error if LaTeX is not installed on your system.  In that case,\n",
    "# you can set usetex to False.\n",
    "if \"setup_text_plots\" not in globals():\n",
    "    from astroML.plotting import setup_text_plots\n",
    "setup_text_plots(fontsize=18, usetex=True)"
   ]
  },
  {
   "cell_type": "markdown",
   "metadata": {},
   "source": [
    "# Fetch and prepare the data"
   ]
  },
  {
   "cell_type": "code",
   "execution_count": 7,
   "metadata": {},
   "outputs": [],
   "source": [
    "# Fetch and prepare the data\n",
    "data = fetch_sdss_specgals()"
   ]
  },
  {
   "cell_type": "markdown",
   "metadata": {},
   "source": [
    "# put magnitudes into array"
   ]
  },
  {
   "cell_type": "code",
   "execution_count": 8,
   "metadata": {},
   "outputs": [],
   "source": [
    "# normalize to zero mean and unit variance for easier training\n",
    "datanormed = np.zeros((len(data), 6), dtype=np.float32)\n",
    "for i, band in enumerate(['u', 'g', 'r', 'i', 'z']):\n",
    "    band = 'modelMag_' + band\n",
    "    datanormed[:, i] = (data[band] - data[band].mean()) / data[band].std()\n"
   ]
  },
  {
   "cell_type": "markdown",
   "metadata": {},
   "source": [
    "# put redshifts into array"
   ]
  },
  {
   "cell_type": "code",
   "execution_count": 9,
   "metadata": {},
   "outputs": [],
   "source": [
    "# put redshifts into array\n",
    "datanormed[:, 5] = data['z']\n"
   ]
  },
  {
   "cell_type": "markdown",
   "metadata": {},
   "source": [
    "# define structure of neural net"
   ]
  },
  {
   "cell_type": "code",
   "execution_count": 10,
   "metadata": {},
   "outputs": [],
   "source": [
    "# define structure of neural net\n",
    "class Net(nn.Module):\n",
    "    def __init__(self, nhidden):\n",
    "        super(Net, self).__init__()\n",
    "        self.fc_h = nn.Linear(5, nhidden)\n",
    "        self.fc_o = nn.Linear(nhidden, 1)\n",
    "\n",
    "    def forward(self, x):\n",
    "        h = F.relu(self.fc_h(x))\n",
    "        z = self.fc_o(h)\n",
    "        return z"
   ]
  },
  {
   "cell_type": "markdown",
   "metadata": {},
   "source": [
    "# split data into 9:1 train:test"
   ]
  },
  {
   "cell_type": "code",
   "execution_count": 11,
   "metadata": {},
   "outputs": [],
   "source": [
    "# split data into 9:1 train:test\n",
    "dataset = torchdata.TensorDataset(torch.tensor(datanormed[:, 0:5]),\n",
    "                                  torch.tensor(datanormed[:, 5]).view(-1, 1))\n",
    "trainnum = datanormed.shape[0] // 10 * 9\n",
    "traindata, testdata = torchdata.random_split(dataset, [trainnum, datanormed.shape[0] - trainnum])\n",
    "traindataloader = torchdata.DataLoader(traindata, batch_size=128, shuffle=True)"
   ]
  },
  {
   "cell_type": "code",
   "execution_count": null,
   "metadata": {},
   "outputs": [],
   "source": []
  },
  {
   "cell_type": "code",
   "execution_count": 12,
   "metadata": {},
   "outputs": [],
   "source": [
    "@pickle_results('NNphotoz.pkl')\n",
    "def train_NN():\n",
    "    model = Net(4)\n",
    "    criterion = torch.nn.MSELoss(reduction='sum')\n",
    "    optimizer = torch.optim.SGD(model.parameters(), lr=0.001)\n",
    "    scheduler = torch.optim.lr_scheduler.ReduceLROnPlateau(optimizer, verbose=True, patience=5, threshold=1e-3)\n",
    "\n",
    "    min_valid_loss = float('inf')\n",
    "    badepochs = 0\n",
    "    for t in range(1000):\n",
    "        train_loss = 0\n",
    "        for i, databatch in enumerate(traindataloader, 0):\n",
    "            photometry, redshifts = databatch\n",
    "            optimizer.zero_grad()\n",
    "            z_pred = model(photometry)\n",
    "            loss = criterion(z_pred, redshifts)\n",
    "            loss.backward()\n",
    "            optimizer.step()\n",
    "            train_loss += loss.item()\n",
    "\n",
    "        with torch.no_grad():\n",
    "            photometry = testdata[:][0]\n",
    "            redshifts = testdata[:][1]\n",
    "            z_pred = model(photometry)\n",
    "            valid_loss = criterion(z_pred, redshifts)\n",
    "            if t % 10 == 0:\n",
    "                print('Epoch %3i: train loss %0.3e validation loss %0.3e' % (t, \\\n",
    "                        train_loss / len(traindata), valid_loss / len(testdata)))\n",
    "            # stop training if validation loss has not fallen in 10 epochs\n",
    "            if valid_loss > min_valid_loss*(1-1e-3):\n",
    "                badepochs += 1\n",
    "            else:\n",
    "                min_valid_loss = valid_loss\n",
    "                badepochs = 0\n",
    "            if badepochs == 10:\n",
    "                print('Finished training')\n",
    "                break\n",
    "        scheduler.step(valid_loss)\n",
    "    return model"
   ]
  },
  {
   "cell_type": "code",
   "execution_count": 13,
   "metadata": {},
   "outputs": [
    {
     "name": "stdout",
     "output_type": "stream",
     "text": [
      "@pickle_results: using precomputed results from 'NNphotoz.pkl'\n"
     ]
    }
   ],
   "source": [
    "model = train_NN()"
   ]
  },
  {
   "cell_type": "markdown",
   "metadata": {},
   "source": [
    "# plot the results"
   ]
  },
  {
   "cell_type": "code",
   "execution_count": 14,
   "metadata": {},
   "outputs": [
    {
     "data": {
      "image/png": "[encoded data removed]",
      "text/plain": [
       "<Figure size 360x360 with 1 Axes>"
      ]
     },
     "metadata": {
      "needs_background": "light"
     },
     "output_type": "display_data"
    }
   ],
   "source": [
    "# plot the results\n",
    "with torch.no_grad():\n",
    "    photometry = testdata[:][0]\n",
    "    redshifts = testdata[:][1]\n",
    "    z_pred = model(photometry)\n",
    "    fig = plt.figure(figsize=(5, 5))\n",
    "    fig.subplots_adjust(wspace=0.25,\n",
    "                        left=0.1, right=0.95,\n",
    "                        bottom=0.15, top=0.9)\n",
    "\n",
    "    ax = plt.axes()\n",
    "    #ax.scatter(redshifts, z_pred, s=1, lw=0, c='k')\n",
    "    H, zs_bins, zp_bins = np.histogram2d(redshifts.numpy().flatten(), z_pred.numpy().flatten(), 151)\n",
    "    ax.imshow(H.T, origin='lower', interpolation='nearest', aspect='auto',\n",
    "               extent=[zs_bins[0], zs_bins[-1], zp_bins[0], zp_bins[-1]],\n",
    "               cmap=plt.cm.binary)\n",
    "    ax.plot([-0.1, 0.4], [-0.1, 0.4], ':k')\n",
    "    rms = np.sqrt(np.mean((z_pred-redshifts).numpy()**2))\n",
    "    ax.text(0, 0.35, 'RMS error = %0.3f' % np.sqrt(np.mean((z_pred-redshifts).numpy()**2)))\n",
    "    ax.set_xlim(-0.02, 0.4001)\n",
    "    ax.set_ylim(-0.02, 0.4001)\n",
    "    ax.xaxis.set_major_locator(plt.MultipleLocator(0.1))\n",
    "    ax.yaxis.set_major_locator(plt.MultipleLocator(0.1))\n",
    "    ax.set_xlabel(r'$z_{\\rm true}$')\n",
    "    ax.set_ylabel(r'$z_{\\rm fit}$')\n",
    "    plt.show()\n"
   ]
  },
  {
   "cell_type": "code",
   "execution_count": null,
   "metadata": {},
   "outputs": [],
   "source": []
  }
 ],
 "metadata": {
  "kernelspec": {
   "display_name": "Python 3",
   "language": "python",
   "name": "python3"
  },
  "language_info": {
   "codemirror_mode": {
    "name": "ipython",
    "version": 3
   },
   "file_extension": ".py",
   "mimetype": "text/x-python",
   "name": "python",
   "nbconvert_exporter": "python",
   "pygments_lexer": "ipython3",
   "version": "3.7.7"
  }
 },
 "nbformat": 4,
 "nbformat_minor": 4
}
