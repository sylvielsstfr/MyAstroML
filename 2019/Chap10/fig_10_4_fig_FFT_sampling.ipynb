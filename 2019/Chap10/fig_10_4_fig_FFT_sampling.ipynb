{
 "cells": [
  {
   "cell_type": "markdown",
   "metadata": {},
   "source": [
    "# The effect of Sampling\n",
    "\n",
    "## Fig 10.4"
   ]
  },
  {
   "cell_type": "code",
   "execution_count": 2,
   "metadata": {},
   "outputs": [
    {
     "data": {
      "text/plain": [
       "'\\nThe effect of Sampling\\n----------------------\\nFigure 10.4\\n\\nAn illustration of the impact of a sampling window function of resulting PSD.\\nThe top-left panel shows a simulated data set with 40 points drawn from the\\nfunction y(t|P) = sin(t) (i.e., f = 1/(2pi) ~ 0.16). The sampling is random,\\nand illustrated by the vertical lines in the bottom-left panel. The PSD of\\nsampling times, or spectral window, is shown in the bottom-right panel. The\\nPSD computed for the data set from the top-left panel is shown in the top-right\\npanel; it is equal to a convolution of the single peak (shaded in gray) with\\nthe window PSD shown in the bottom-right panel (e.g., the peak at f ~ 0.42 in\\nthe top-right panel can be traced to a peak at f ~ 0.26 in the bottom-right\\npanel).\\n'"
      ]
     },
     "execution_count": 2,
     "metadata": {},
     "output_type": "execute_result"
    }
   ],
   "source": [
    "\"\"\"\n",
    "The effect of Sampling\n",
    "----------------------\n",
    "Figure 10.4\n",
    "\n",
    "An illustration of the impact of a sampling window function of resulting PSD.\n",
    "The top-left panel shows a simulated data set with 40 points drawn from the\n",
    "function y(t|P) = sin(t) (i.e., f = 1/(2pi) ~ 0.16). The sampling is random,\n",
    "and illustrated by the vertical lines in the bottom-left panel. The PSD of\n",
    "sampling times, or spectral window, is shown in the bottom-right panel. The\n",
    "PSD computed for the data set from the top-left panel is shown in the top-right\n",
    "panel; it is equal to a convolution of the single peak (shaded in gray) with\n",
    "the window PSD shown in the bottom-right panel (e.g., the peak at f ~ 0.42 in\n",
    "the top-right panel can be traced to a peak at f ~ 0.26 in the bottom-right\n",
    "panel).\n",
    "\"\"\""
   ]
  },
  {
   "cell_type": "code",
   "execution_count": 3,
   "metadata": {},
   "outputs": [],
   "source": [
    "import numpy as np\n",
    "from matplotlib import pyplot as plt"
   ]
  },
  {
   "cell_type": "code",
   "execution_count": 4,
   "metadata": {},
   "outputs": [],
   "source": [
    "import matplotlib.colors as colors\n",
    "import matplotlib.cm as cmx\n",
    "import matplotlib.dates as mdates\n",
    "from matplotlib import gridspec"
   ]
  },
  {
   "cell_type": "code",
   "execution_count": 5,
   "metadata": {},
   "outputs": [],
   "source": [
    "N=10\n",
    "jet = plt.get_cmap('jet')\n",
    "cNorm = colors.Normalize(vmin=0, vmax=N)\n",
    "scalarMap = cmx.ScalarMappable(norm=cNorm, cmap=jet)\n",
    "all_colors = scalarMap.to_rgba(np.arange(N), alpha=1)"
   ]
  },
  {
   "cell_type": "code",
   "execution_count": 6,
   "metadata": {},
   "outputs": [],
   "source": [
    "# to enlarge the sizes\n",
    "params = {'legend.fontsize': 'x-large',\n",
    "          'figure.figsize': (15, 7.5),\n",
    "         'axes.labelsize': 'x-large',\n",
    "         'axes.titlesize':'x-large',\n",
    "         'xtick.labelsize':'x-large',\n",
    "         'ytick.labelsize':'x-large'}\n",
    "plt.rcParams.update(params)\n"
   ]
  },
  {
   "cell_type": "code",
   "execution_count": 7,
   "metadata": {},
   "outputs": [],
   "source": [
    "#----------------------------------------------------------------------\n",
    "# This function adjusts matplotlib settings for a uniform feel in the textbook.\n",
    "# Note that with usetex=True, fonts are rendered with LaTeX.  This may\n",
    "# result in an error if LaTeX is not installed on your system.  In that case,\n",
    "# you can set usetex to False.\n",
    "if \"setup_text_plots\" not in globals():\n",
    "    from astroML.plotting import setup_text_plots\n",
    "setup_text_plots(fontsize=18, usetex=True)"
   ]
  },
  {
   "cell_type": "markdown",
   "metadata": {},
   "source": [
    "# Generate the data"
   ]
  },
  {
   "cell_type": "code",
   "execution_count": 8,
   "metadata": {},
   "outputs": [],
   "source": [
    "#------------------------------------------------------------\n",
    "# Generate the data\n",
    "Nbins = 2 ** 15\n",
    "Nobs = 40\n",
    "f = lambda t: np.sin(np.pi * t / 3)\n",
    "\n",
    "t = np.linspace(-100, 200, Nbins)\n",
    "dt = t[1] - t[0]\n",
    "y = f(t)\n",
    "\n",
    "# select observations\n",
    "np.random.seed(42)\n",
    "t_obs = 100 * np.random.random(40)\n",
    "\n",
    "D = abs(t_obs[:, np.newaxis] - t)\n",
    "i = np.argmin(D, 1)\n",
    "\n",
    "t_obs = t[i]\n",
    "y_obs = y[i]\n",
    "window = np.zeros(Nbins)\n",
    "window[i] = 1\n"
   ]
  },
  {
   "cell_type": "markdown",
   "metadata": {},
   "source": [
    "# Compute PSDs"
   ]
  },
  {
   "cell_type": "code",
   "execution_count": 9,
   "metadata": {},
   "outputs": [],
   "source": [
    "#------------------------------------------------------------\n",
    "# Compute PSDs\n",
    "Nfreq = int(Nbins / 2)\n",
    "\n",
    "dt = t[1] - t[0]\n",
    "df = 1. / (Nbins * dt)\n",
    "f = df * np.arange(Nfreq)\n",
    "\n",
    "PSD_window = abs(np.fft.fft(window)[:Nfreq]) ** 2\n",
    "PSD_y = abs(np.fft.fft(y)[:Nfreq]) ** 2\n",
    "PSD_obs = abs(np.fft.fft(y * window)[:Nfreq]) ** 2\n",
    "\n",
    "# normalize the true PSD so it can be shown in the plot:\n",
    "# in theory it's a delta function, so normalization is\n",
    "# arbitrary\n",
    "\n",
    "# scale PSDs for plotting\n",
    "PSD_window /= 500\n",
    "PSD_y /= PSD_y.max()\n",
    "PSD_obs /= 500\n"
   ]
  },
  {
   "cell_type": "markdown",
   "metadata": {},
   "source": [
    "# Prepare the figures"
   ]
  },
  {
   "cell_type": "code",
   "execution_count": null,
   "metadata": {},
   "outputs": [],
   "source": [
    "#------------------------------------------------------------\n",
    "# Prepare the figures\n",
    "fig = plt.figure(figsize=(5, 2.5))\n",
    "fig.subplots_adjust(bottom=0.15, hspace=0.2, wspace=0.25,\n",
    "                    left=0.12, right=0.95)\n",
    "\n",
    "# First panel: data vs time\n",
    "ax = fig.add_subplot(221)\n",
    "ax.plot(t, y, '-', c='gray')\n",
    "ax.plot(t_obs, y_obs, '.k', ms=4)\n",
    "ax.text(0.95, 0.93, \"Data\", ha='right', va='top', transform=ax.transAxes)\n",
    "ax.set_ylabel('$y(t)$')\n",
    "ax.set_xlim(0, 100)\n",
    "ax.set_ylim(-1.5, 1.8)\n",
    "\n",
    "# Second panel: PSD of data\n",
    "ax = fig.add_subplot(222)\n",
    "ax.fill(f, PSD_y, fc='gray', ec='gray')\n",
    "ax.plot(f, PSD_obs, '-', c='black')\n",
    "ax.text(0.95, 0.93, \"Data PSD\", ha='right', va='top', transform=ax.transAxes)\n",
    "ax.set_ylabel('$P(f)$')\n",
    "ax.set_xlim(0, 1.0)\n",
    "ax.set_ylim(-0.1, 1.1)\n",
    "\n",
    "# Third panel: window vs time\n",
    "ax = fig.add_subplot(223)\n",
    "ax.plot(t, window, '-', c='black')\n",
    "ax.text(0.95, 0.93, \"Window\", ha='right', va='top', transform=ax.transAxes)\n",
    "ax.set_xlabel('$t$')\n",
    "ax.set_ylabel('$y(t)$')\n",
    "ax.set_xlim(0, 100)\n",
    "ax.set_ylim(-0.2, 1.5)\n",
    "\n",
    "# Fourth panel: PSD of window\n",
    "ax = fig.add_subplot(224)\n",
    "ax.plot(f, PSD_window, '-', c='black')\n",
    "ax.text(0.95, 0.93, \"Window PSD\", ha='right', va='top', transform=ax.transAxes)\n",
    "ax.set_xlabel('$f$')\n",
    "ax.set_ylabel('$P(f)$')\n",
    "ax.set_xlim(0, 1.0)\n",
    "ax.set_ylim(-0.1, 1.1)\n",
    "\n",
    "plt.show()\n"
   ]
  }
 ],
 "metadata": {
  "kernelspec": {
   "display_name": "Python 3",
   "language": "python",
   "name": "python3"
  },
  "language_info": {
   "codemirror_mode": {
    "name": "ipython",
    "version": 3
   },
   "file_extension": ".py",
   "mimetype": "text/x-python",
   "name": "python",
   "nbconvert_exporter": "python",
   "pygments_lexer": "ipython3",
   "version": "3.7.7"
  }
 },
 "nbformat": 4,
 "nbformat_minor": 4
}
