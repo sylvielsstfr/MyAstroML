{
 "cells": [
  {
   "cell_type": "markdown",
   "id": "124c6e54-2377-4ded-9cbc-d7bb00cc3712",
   "metadata": {},
   "source": [
    "# Mean Shift Example"
   ]
  },
  {
   "cell_type": "markdown",
   "id": "9d32d541-10d3-4718-989d-2e4929ec7bd7",
   "metadata": {},
   "source": [
    "## Figure 6.14"
   ]
  },
  {
   "cell_type": "code",
   "execution_count": 1,
   "id": "8de17e23-e598-4896-9d3c-6487b3cbfc63",
   "metadata": {},
   "outputs": [
    {
     "data": {
      "text/plain": [
       "'\\nMean Shift Example\\n------------------\\nFigure 6.14\\n\\nMean-shift clustering on the metallicity datas et used in figures 6.6 and 6.13.\\nThe method finds two clusters associated with local maxima of the distribution\\n(interior of the circles). Points outside the circles have been determined to\\nlie in the background. The mean shift does not attempt to model correlation\\nin the clusters: that is, the resulting clusters are axis aligned.\\n'"
      ]
     },
     "execution_count": 1,
     "metadata": {},
     "output_type": "execute_result"
    }
   ],
   "source": [
    "\"\"\"\n",
    "Mean Shift Example\n",
    "------------------\n",
    "Figure 6.14\n",
    "\n",
    "Mean-shift clustering on the metallicity datas et used in figures 6.6 and 6.13.\n",
    "The method finds two clusters associated with local maxima of the distribution\n",
    "(interior of the circles). Points outside the circles have been determined to\n",
    "lie in the background. The mean shift does not attempt to model correlation\n",
    "in the clusters: that is, the resulting clusters are axis aligned.\n",
    "\"\"\"\n",
    "# Author: Jake VanderPlas\n",
    "# License: BSD\n",
    "#   The figure produced by this code is published in the textbook\n",
    "#   \"Statistics, Data Mining, and Machine Learning in Astronomy\" (2013)\n",
    "#   For more information, see http://astroML.github.com\n",
    "#   To report a bug or issue, use the following forum:\n",
    "#    https://groups.google.com/forum/#!forum/astroml-general"
   ]
  },
  {
   "cell_type": "code",
   "execution_count": 2,
   "id": "4f91b3cb-c9b2-45ad-a46a-cb67bd4e67e3",
   "metadata": {},
   "outputs": [],
   "source": [
    "from __future__ import print_function\n",
    "\n",
    "import numpy as np\n",
    "from matplotlib import pyplot as plt\n",
    "from matplotlib.patches import Ellipse\n",
    "from scipy.stats import norm\n",
    "\n",
    "from sklearn.cluster import MeanShift, estimate_bandwidth\n",
    "from sklearn import preprocessing\n",
    "\n",
    "from astroML.datasets import fetch_sdss_sspp\n"
   ]
  },
  {
   "cell_type": "code",
   "execution_count": 3,
   "id": "4b5341c9-b5e4-44e4-99c5-315eb44bfb3d",
   "metadata": {},
   "outputs": [
    {
     "name": "stderr",
     "output_type": "stream",
     "text": [
      "/Users/dagoret/anaconda3/lib/python3.9/site-packages/astroML/linear_model/linear_regression_errors.py:10: UserWarning: LinearRegressionwithErrors requires PyMC3 to be installed\n",
      "  warnings.warn('LinearRegressionwithErrors requires PyMC3 to be installed')\n"
     ]
    }
   ],
   "source": [
    "#----------------------------------------------------------------------\n",
    "# This function adjusts matplotlib settings for a uniform feel in the textbook.\n",
    "# Note that with usetex=True, fonts are rendered with LaTeX.  This may\n",
    "# result in an error if LaTeX is not installed on your system.  In that case,\n",
    "# you can set usetex to False.\n",
    "if \"setup_text_plots\" not in globals():\n",
    "    from astroML.plotting import setup_text_plots\n",
    "setup_text_plots(fontsize=12, usetex=True)\n"
   ]
  },
  {
   "cell_type": "code",
   "execution_count": 4,
   "id": "9a97602b-72c3-4db0-9eae-785eaa71ab93",
   "metadata": {},
   "outputs": [
    {
     "name": "stderr",
     "output_type": "stream",
     "text": [
      "/Users/dagoret/anaconda3/lib/python3.9/site-packages/sklearn/preprocessing/_data.py:235: UserWarning: Numerical issues were encountered when centering the data and might not be solved. Dataset may contain too large values. You may need to prescale your features.\n",
      "  warnings.warn(\n",
      "/Users/dagoret/anaconda3/lib/python3.9/site-packages/sklearn/preprocessing/_data.py:254: UserWarning: Numerical issues were encountered when scaling the data and might not be solved. The standard deviation of the data is probably very close to 0. \n",
      "  warnings.warn(\n"
     ]
    },
    {
     "name": "stdout",
     "output_type": "stream",
     "text": [
      "[-1  0  1]\n",
      "0.4\n",
      "number of estimated clusters : 2\n"
     ]
    }
   ],
   "source": [
    "#------------------------------------------------------------\n",
    "# Get the data\n",
    "np.random.seed(0)\n",
    "data = fetch_sdss_sspp(cleaned=True)\n",
    "\n",
    "# cut out some additional strange outliers\n",
    "data = data[~((data['alphFe'] > 0.4) & (data['FeH'] > -0.3))]\n",
    "\n",
    "X = np.vstack([data['FeH'], data['alphFe']]).T\n",
    "\n",
    "#----------------------------------------------------------------------\n",
    "# Compute clustering with MeanShift\n",
    "#\n",
    "# We'll work with the scaled data, because MeanShift finds circular clusters\n",
    "\n",
    "X_scaled = preprocessing.scale(X)\n",
    "\n",
    "# The following bandwidth can be automatically detected using\n",
    "# the routine estimate_bandwidth().  Because bandwidth estimation\n",
    "# is very expensive in memory and computation, we'll skip it here.\n",
    "\n",
    "#bandwidth = estimate_bandwidth(X)\n",
    "bandwidth = 0.4\n",
    "\n",
    "ms = MeanShift(bandwidth=bandwidth, bin_seeding=True, cluster_all=False)\n",
    "ms.fit(X_scaled)\n",
    "\n",
    "labels_unique = np.unique(ms.labels_)\n",
    "n_clusters = len(labels_unique[labels_unique >= 0])\n",
    "print(labels_unique)\n",
    "print(bandwidth)\n",
    "print(\"number of estimated clusters :\", n_clusters)\n"
   ]
  },
  {
   "cell_type": "code",
   "execution_count": 5,
   "id": "3d183ed3-71cc-4590-8383-db412354eed4",
   "metadata": {},
   "outputs": [
    {
     "data": {
      "image/png": "[encoded data removed]",
      "text/plain": [
       "<Figure size 360x360 with 1 Axes>"
      ]
     },
     "metadata": {
      "needs_background": "light"
     },
     "output_type": "display_data"
    }
   ],
   "source": [
    "#------------------------------------------------------------\n",
    "# Plot the results\n",
    "fig = plt.figure(figsize=(5, 5))\n",
    "ax = fig.add_subplot(111)\n",
    "\n",
    "# plot density\n",
    "H, FeH_bins, alphFe_bins = np.histogram2d(data['FeH'], data['alphFe'], 51)\n",
    "\n",
    "ax.imshow(H.T, origin='lower', interpolation='nearest', aspect='auto',\n",
    "          extent=[FeH_bins[0], FeH_bins[-1],\n",
    "                  alphFe_bins[0], alphFe_bins[-1]],\n",
    "          cmap=plt.cm.binary)\n",
    "\n",
    "# plot clusters\n",
    "colors = ['b', 'g', 'r', 'k']\n",
    "\n",
    "for i in range(n_clusters):\n",
    "    Xi = X[ms.labels_ == i]\n",
    "    H, b1, b2 = np.histogram2d(Xi[:, 0], Xi[:, 1], (FeH_bins, alphFe_bins))\n",
    "\n",
    "    bins = [0.1]\n",
    "\n",
    "    ax.contour(0.5 * (FeH_bins[1:] + FeH_bins[:-1]),\n",
    "               0.5 * (alphFe_bins[1:] + alphFe_bins[:-1]),\n",
    "               H.T, bins, colors='w')\n",
    "\n",
    "ax.xaxis.set_major_locator(plt.MultipleLocator(0.3))\n",
    "ax.set_xlim(-1.101, 0.101)\n",
    "ax.set_ylim(alphFe_bins[0], alphFe_bins[-1])\n",
    "ax.set_xlabel(r'$\\rm [Fe/H]$')\n",
    "ax.set_ylabel(r'$\\rm [\\alpha/Fe]$')\n",
    "\n",
    "plt.show()\n"
   ]
  },
  {
   "cell_type": "code",
   "execution_count": null,
   "id": "dbc413c7-e0e9-4982-a04a-05d7c2eeb353",
   "metadata": {},
   "outputs": [],
   "source": []
  }
 ],
 "metadata": {
  "kernelspec": {
   "display_name": "python3_base",
   "language": "python",
   "name": "python3"
  },
  "language_info": {
   "codemirror_mode": {
    "name": "ipython",
    "version": 3
   },
   "file_extension": ".py",
   "mimetype": "text/x-python",
   "name": "python",
   "nbconvert_exporter": "python",
   "pygments_lexer": "ipython3",
   "version": "3.9.12"
  }
 },
 "nbformat": 4,
 "nbformat_minor": 5
}
